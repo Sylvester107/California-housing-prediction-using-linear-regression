{
 "cells": [
  {
   "cell_type": "code",
   "execution_count": null,
   "metadata": {},
   "outputs": [],
   "source": [
    "#this is intentionally left empty"
   ]
  }
 ],
 "metadata": {
  "kernelspec": {
   "display_name": "Python 3",
   "language": "python",
   "name": "python3"
  },
  "language_info": {
   "name": "python",
   "version": "3.9.7"
  },
  "orig_nbformat": 4,
  "vscode": {
   "interpreter": {
    "hash": "f3104540d9c3caa2613ebb62fce35f1238316955470443f53bbe2b320f4cf1d3"
   }
  }
 },
 "nbformat": 4,
 "nbformat_minor": 2
}
